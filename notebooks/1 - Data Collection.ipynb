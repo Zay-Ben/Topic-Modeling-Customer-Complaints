{
 "cells": [
  {
   "cell_type": "markdown",
   "id": "00827cad-bb7c-4fc1-b019-04cce8105ef5",
   "metadata": {},
   "source": [
    "# 1 - Data Collection"
   ]
  },
  {
   "cell_type": "markdown",
   "id": "10772cb3-fdad-4ae4-9e8d-f9dba4eb1183",
   "metadata": {},
   "source": [
    "[How to Scrape Millions of Tweets using SNSCRAPER](https://medium.com/machine-learning-mastery/how-to-scrape-millions-of-tweets-using-snscraper-aa47cee400ec)"
   ]
  },
  {
   "cell_type": "code",
   "execution_count": 1,
   "id": "c4054559-250b-4004-936e-48c5362b7813",
   "metadata": {},
   "outputs": [],
   "source": [
    "import snscrape.modules.twitter as sntwitter\n",
    "\n",
    "import pandas as pd"
   ]
  },
  {
   "cell_type": "code",
   "execution_count": 2,
   "id": "907b5472-b747-4a3d-aaea-9ed2f902b26c",
   "metadata": {},
   "outputs": [],
   "source": [
    "converge = [\"@converge_csu\", \"@experiencecnvrg\"]\n",
    "\n",
    "globe = [\"@enjoyglobe\", \"@talk2globe\"]\n",
    "\n",
    "pldt = [\"@pldthome\", \"@pldtenterprise\", \"@pldtent_cares\", \"@pldt_cares\", \"@pldt\"]\n",
    "\n",
    "tags = converge + globe + pldt"
   ]
  },
  {
   "cell_type": "code",
   "execution_count": 3,
   "id": "e8bfa18c-38d9-421e-a406-b891cd3f3506",
   "metadata": {},
   "outputs": [],
   "source": [
    "# Creating list to append tweet data to\n",
    "\n",
    "tweets_list = []"
   ]
  },
  {
   "cell_type": "code",
   "execution_count": 4,
   "id": "7420c850-c664-45f9-b2c8-5ae2718f9776",
   "metadata": {},
   "outputs": [
    {
     "name": "stdout",
     "output_type": "stream",
     "text": [
      "Wall time: 4h 52min 40s\n"
     ]
    }
   ],
   "source": [
    "%%time\n",
    "\n",
    "# Using TwitterSearchScraper to scrape data and append tweets to list\n",
    "\n",
    "for i, tweet in enumerate(sntwitter.TwitterSearchScraper(\" OR \".join(tags) + \" since:2022-01-01 until:2022-12-31\").get_items()):\n",
    "    tweets_list.append([tweet.date,\n",
    "                        tweet.rawContent,\n",
    "                        tweet.id,\n",
    "                        tweet.user.username,\n",
    "                        tweet.user.location,\n",
    "                        tweet.conversationId,\n",
    "                        tweet.coordinates,\n",
    "                        tweet.place])"
   ]
  },
  {
   "cell_type": "code",
   "execution_count": 5,
   "id": "c3185000-ff71-43e1-8581-095be7488d7a",
   "metadata": {},
   "outputs": [],
   "source": [
    "# Creating a dataframe from the tweets list above\n",
    "\n",
    "tweets_df = pd.DataFrame(tweets_list, columns = [\"date\",\n",
    "                                                 \"rawContent\",\n",
    "                                                 \"id\",\n",
    "                                                 \"user_username\",\n",
    "                                                 \"user_location\",\n",
    "                                                 \"conversation_id\",\n",
    "                                                 \"coordinates\",\n",
    "                                                 \"place\"])"
   ]
  },
  {
   "cell_type": "code",
   "execution_count": 6,
   "id": "2e601109-d0dd-4702-adc5-ca4c314eea19",
   "metadata": {},
   "outputs": [],
   "source": [
    "# tweets_df.to_csv(\"inputs/tweets_raw.csv\", index = False)"
   ]
  }
 ],
 "metadata": {
  "kernelspec": {
   "display_name": "Python 3 (ipykernel)",
   "language": "python",
   "name": "python3"
  },
  "language_info": {
   "codemirror_mode": {
    "name": "ipython",
    "version": 3
   },
   "file_extension": ".py",
   "mimetype": "text/x-python",
   "name": "python",
   "nbconvert_exporter": "python",
   "pygments_lexer": "ipython3",
   "version": "3.9.13"
  }
 },
 "nbformat": 4,
 "nbformat_minor": 5
}
