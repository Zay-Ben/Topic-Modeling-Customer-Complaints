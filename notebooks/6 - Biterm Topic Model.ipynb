{
 "cells": [
  {
   "cell_type": "markdown",
   "id": "fc0f758e-c106-4895-a156-0627edd73595",
   "metadata": {},
   "source": [
    "# 6 - Biterm Topic Model"
   ]
  },
  {
   "cell_type": "markdown",
   "id": "de38c83f-d704-4fb6-9960-58c74a4a0568",
   "metadata": {},
   "source": [
    "## Import Library"
   ]
  },
  {
   "cell_type": "code",
   "execution_count": 1,
   "id": "49e027d8-165e-47c4-9b13-fd050435f818",
   "metadata": {},
   "outputs": [],
   "source": [
    "import pandas as pd\n",
    "\n",
    "import bitermplus as btm\n",
    "\n",
    "from tqdm import tqdm\n",
    "\n",
    "import joblib\n",
    "\n",
    "import numpy as np\n",
    "\n",
    "K = [5, 10, 15, 20, 25, 30, 35, 40, 45, 50]\n",
    "\n",
    "alpha_list = [1, 10, 50, 100, 250]\n",
    "\n",
    "eta_list = [0.001, 0.01, 0.1, 0.5, 1.0]"
   ]
  },
  {
   "cell_type": "markdown",
   "id": "3017a3ec-a0a5-4ebb-8d70-7d3c2779626f",
   "metadata": {},
   "source": [
    "## Import Data"
   ]
  },
  {
   "cell_type": "code",
   "execution_count": null,
   "id": "49f3c72a-3d72-414b-b4e0-65b102d16f9e",
   "metadata": {},
   "outputs": [],
   "source": [
    "df = pd.read_csv(\"inputs/tweets_sample.csv\")\n",
    "\n",
    "texts = df[\"content_10\"].str.strip().tolist()\n",
    "\n",
    "X, vocabulary, vocab_dict = btm.get_words_freqs(texts)\n",
    "\n",
    "docs_vec = btm.get_vectorized_docs(texts, vocabulary)\n",
    "\n",
    "biterms = btm.get_biterms(docs_vec)"
   ]
  },
  {
   "cell_type": "markdown",
   "id": "7237422b-c3af-4fcd-bd4b-f359341bc212",
   "metadata": {},
   "source": [
    "## Train and Export Model"
   ]
  },
  {
   "cell_type": "code",
   "execution_count": null,
   "id": "2c31c3da-951a-4352-ac38-b0adce6dd6c1",
   "metadata": {},
   "outputs": [],
   "source": [
    "for i in range(len(K)):\n",
    "    for a in alpha_list:\n",
    "        for e in eta_list:\n",
    "            model = btm.BTM(X,\n",
    "                            vocabulary,\n",
    "                            T = K[i],\n",
    "                            alpha = a / K[i],\n",
    "                            beta = e,\n",
    "                            seed = 0,\n",
    "                            has_background = True)\n",
    "            model.fit(biterms, iterations = 1000)\n",
    "            # joblib.dump(model, \"outputs/models/btm/btm_k_{0}_a_{1}_e_{2}.sav\".format(K[i], a, e))"
   ]
  },
  {
   "cell_type": "markdown",
   "id": "59a32941-f41e-4694-9123-9fbf206fb0cf",
   "metadata": {},
   "source": [
    "## Import Model"
   ]
  },
  {
   "cell_type": "code",
   "execution_count": null,
   "id": "529ee999-3bdd-4c2d-9058-362674d2485b",
   "metadata": {},
   "outputs": [],
   "source": [
    "models = [joblib.load(\"outputs/models/btm/btm_k_{0}_a_{1}_e_{2}.sav\".format(K[i], a, e)) for i in tqdm(range(len(K))) for a in alpha_list for e in eta_list]"
   ]
  },
  {
   "cell_type": "markdown",
   "id": "47c31497-045d-4658-8a64-92b5ebb98d31",
   "metadata": {},
   "source": [
    "## Export Results"
   ]
  },
  {
   "cell_type": "code",
   "execution_count": null,
   "id": "d1b1db92-4c0e-4398-859b-76e1f51ef368",
   "metadata": {
    "tags": []
   },
   "outputs": [],
   "source": [
    "for i in range(len(models)):\n",
    "    a = int(models[i].alpha_ * len(models[i].theta_))\n",
    "    e = models[i].beta_\n",
    "    p_wz = pd.DataFrame(data = models[i].matrix_topics_words_, columns = models[i].vocabulary_)\n",
    "    # p_wz.to_csv(\"outputs/btm/p_wz_k_{0}_a_{1}_e_{2}.csv\".format(len(models[i].theta_), a, e))\n",
    "    p_zd = pd.DataFrame(data = models[i].transform(docs_vec)).T\n",
    "    # p_zd.to_csv(\"outputs/btm/p_zd_k_{0}_a_{1}_e_{2}.csv\".format(len(models[i].theta_), a, e))"
   ]
  },
  {
   "cell_type": "markdown",
   "id": "4fcd4afc-ca30-413f-af29-90b5ca40e8de",
   "metadata": {},
   "source": [
    "## Metrics"
   ]
  },
  {
   "cell_type": "code",
   "execution_count": null,
   "id": "501a5062-7e27-48b1-a41a-3f4173594d7c",
   "metadata": {
    "tags": []
   },
   "outputs": [],
   "source": [
    "alpha = list()\n",
    "\n",
    "eta = list()\n",
    "\n",
    "for i in K:\n",
    "    for a in alpha_list:\n",
    "        for e in eta_list:\n",
    "            for j in [10, 20, 30]:\n",
    "                alpha.append(a)\n",
    "                eta.append(e)"
   ]
  },
  {
   "cell_type": "code",
   "execution_count": null,
   "id": "7c50f831-7664-4e0b-a342-f66ad36d10f0",
   "metadata": {},
   "outputs": [],
   "source": [
    "outputs = []\n",
    "\n",
    "for i in tqdm(range(len(K))):\n",
    "    for a in alpha_list:\n",
    "        for e in eta_list:\n",
    "            \n",
    "            p_wz = pd.read_csv(\"outputs/btm/p_wz_k_{0}_a_{1}_e_{2}.csv\".format(K[i], a, e), index_col = 0)\n",
    "            \n",
    "            p_zd = pd.read_csv(\"outputs/btm/p_zd_k_{0}_a_{1}_e_{2}.csv\".format(K[i], a, e), index_col = 0)\n",
    "            \n",
    "            output = {\"topic-word-matrix\" : p_wz.to_numpy(),\n",
    "                      \"topics\" : [list(p_wz.T.sort_values(by = j, ascending = False).index[:30]) for j in range(K[i])],\n",
    "                      \"topic-document-matrix\" : p_zd.to_numpy(),\n",
    "                      \"test-topic-document-matrix\" : np.array([])}\n",
    "            \n",
    "            outputs.append(output)"
   ]
  },
  {
   "cell_type": "code",
   "execution_count": null,
   "id": "1029a74e-ecc5-4c9e-98d5-e8f4d12fcdc2",
   "metadata": {},
   "outputs": [],
   "source": [
    "from octis.dataset.dataset import Dataset\n",
    "\n",
    "dataset = Dataset()\n",
    "\n",
    "dataset.load_custom_dataset_from_folder(\"inputs/dataset\")"
   ]
  },
  {
   "cell_type": "code",
   "execution_count": null,
   "id": "fb4eff3c-a535-4e33-b453-f98d44507508",
   "metadata": {},
   "outputs": [],
   "source": [
    "from octis.evaluation_metrics.coherence_metrics import Coherence\n",
    "\n",
    "k, m, u_mass, c_v, c_uci, c_npmi = list(), list(), list(), list(), list(), list()\n",
    "\n",
    "for i in tqdm(range(len(outputs))):\n",
    "    for j in [10, 20, 30]:\n",
    "        k.append(len(outputs[i][\"topics\"]))\n",
    "        m.append(j)\n",
    "        u_mass.append(Coherence(texts = dataset.get_corpus(), topk = j, measure = \"u_mass\").score(outputs[i]))\n",
    "        c_v.append(Coherence(texts = dataset.get_corpus(), topk = j, measure = \"c_v\").score(outputs[i]))\n",
    "        c_uci.append(Coherence(texts = dataset.get_corpus(), topk = j, measure = \"c_uci\").score(outputs[i]))\n",
    "        c_npmi.append(Coherence(texts = dataset.get_corpus(), topk = j, measure = \"c_npmi\").score(outputs[i]))\n",
    "        \n",
    "metrics = pd.DataFrame(data = {\"k\" : k,\n",
    "                               \"m\" : m,\n",
    "                               \"u_mass\" : u_mass,\n",
    "                               \"c_v\" : c_v,\n",
    "                               \"c_uci\" : c_uci,\n",
    "                               \"c_npmi\" : c_npmi,\n",
    "                               \"alpha\" : alpha,\n",
    "                               \"eta\" : eta})\n",
    "\n",
    "# metrics.to_csv(\"outputs/metrics/btm.csv\", index = False)"
   ]
  }
 ],
 "metadata": {
  "kernelspec": {
   "display_name": "Python 3 (ipykernel)",
   "language": "python",
   "name": "python3"
  },
  "language_info": {
   "codemirror_mode": {
    "name": "ipython",
    "version": 3
   },
   "file_extension": ".py",
   "mimetype": "text/x-python",
   "name": "python",
   "nbconvert_exporter": "python",
   "pygments_lexer": "ipython3",
   "version": "3.9.13"
  }
 },
 "nbformat": 4,
 "nbformat_minor": 5
}
