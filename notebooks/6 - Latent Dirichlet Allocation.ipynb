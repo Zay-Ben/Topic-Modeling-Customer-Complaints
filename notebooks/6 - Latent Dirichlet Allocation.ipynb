{
 "cells": [
  {
   "cell_type": "markdown",
   "id": "3f908d71-6d49-4844-8e21-0cf56e87d884",
   "metadata": {},
   "source": [
    "# 6 - Latent Dirichlet Allocation"
   ]
  },
  {
   "cell_type": "markdown",
   "id": "3c9902a1-2bb0-4812-b06e-1c282c63f52f",
   "metadata": {},
   "source": [
    "## Import Library"
   ]
  },
  {
   "cell_type": "code",
   "execution_count": null,
   "id": "1e0ce2c1-dd77-4237-993f-11897e5ccbfd",
   "metadata": {},
   "outputs": [],
   "source": [
    "from tqdm import tqdm\n",
    "\n",
    "import joblib\n",
    "\n",
    "import pandas as pd\n",
    "\n",
    "K = [5, 10, 15, 20, 25, 30, 35, 40, 45, 50]\n",
    "\n",
    "alpha_list = [1, 10, 50, 100, 250]\n",
    "\n",
    "eta_list = [0.001, 0.01, 0.1, 0.5, 1.0]"
   ]
  },
  {
   "cell_type": "markdown",
   "id": "c96d19da-6726-4eb5-9a7a-965ffc54b258",
   "metadata": {},
   "source": [
    "## Import Data"
   ]
  },
  {
   "cell_type": "code",
   "execution_count": null,
   "id": "d15c872e-b844-4960-bd1f-b9e47b8b5f72",
   "metadata": {},
   "outputs": [],
   "source": [
    "from octis.dataset.dataset import Dataset\n",
    "\n",
    "dataset = Dataset()\n",
    "\n",
    "dataset.load_custom_dataset_from_folder(\"inputs/dataset\")"
   ]
  },
  {
   "cell_type": "markdown",
   "id": "31e854f4-ce37-4615-8cdd-6d41617ab849",
   "metadata": {},
   "source": [
    "## Train and Export Model"
   ]
  },
  {
   "cell_type": "code",
   "execution_count": null,
   "id": "8264dd86-8654-4f92-a54c-dd0af31f5074",
   "metadata": {},
   "outputs": [],
   "source": [
    "from octis.models.LDA import LDA\n",
    "\n",
    "for i in tqdm(range(len(K))):\n",
    "    for a in alpha_list:\n",
    "        for e in eta_list:\n",
    "            model = LDA(num_topics = K[i],\n",
    "                        alpha = a / K[i],\n",
    "                        eta = e,\n",
    "                        iterations = 1000,\n",
    "                        random_state = 0)\n",
    "            output = model.train_model(dataset, top_words = 30)\n",
    "            # joblib.dump(output, \"outputs/models/lda/lda_k_{0}_a_{1}_e_{2}.sav\".format(K[i], a, e))"
   ]
  },
  {
   "cell_type": "markdown",
   "id": "8922a6c1-2be1-4973-a270-dbf93a90f7cc",
   "metadata": {},
   "source": [
    "## Import Model"
   ]
  },
  {
   "cell_type": "code",
   "execution_count": null,
   "id": "05fffe28-8ddd-4116-a46c-983fd553492c",
   "metadata": {},
   "outputs": [],
   "source": [
    "outputs = [joblib.load(\"outputs/models/lda/lda_k_{0}_a_{1}_e_{2}.sav\".format(K[i], a, e)) for i in tqdm(range(len(K))) for a in alpha_list for e in eta_list]"
   ]
  },
  {
   "cell_type": "markdown",
   "id": "4104258c-0090-45ef-83d3-cb916c49e59e",
   "metadata": {
    "tags": []
   },
   "source": [
    "## OCTIS"
   ]
  },
  {
   "cell_type": "code",
   "execution_count": null,
   "id": "dcba72d1-78a0-40d0-a821-bc93381b1f9b",
   "metadata": {},
   "outputs": [],
   "source": [
    "# output = outputs[0]"
   ]
  },
  {
   "cell_type": "code",
   "execution_count": null,
   "id": "3da6ae40-18d0-4409-b0a5-182b5500b6d2",
   "metadata": {},
   "outputs": [],
   "source": [
    "dataset.get_vocabulary()[:5] # the vocabulary of the dataset after imported to octis"
   ]
  },
  {
   "cell_type": "code",
   "execution_count": null,
   "id": "4b4ae434-bc89-494d-88a0-102f5e4d1351",
   "metadata": {},
   "outputs": [],
   "source": [
    "sorted(dataset.get_vocabulary())[:5] # the vocabulary of the dataset before imported to octis"
   ]
  },
  {
   "cell_type": "code",
   "execution_count": null,
   "id": "d0c5f73a-d857-45c3-824e-a05f6cad876c",
   "metadata": {},
   "outputs": [],
   "source": [
    "from octis.models.ETM import ETM\n",
    "\n",
    "model = ETM(num_topics = 15)\n",
    "\n",
    "output = model.train_model(dataset, top_words = 30)"
   ]
  },
  {
   "cell_type": "code",
   "execution_count": null,
   "id": "6f146e1a-14be-459a-b08e-d847ae0a4643",
   "metadata": {},
   "outputs": [],
   "source": [
    "output[\"topics\"][0][:5]"
   ]
  },
  {
   "cell_type": "code",
   "execution_count": null,
   "id": "25aa0951-89fc-4d17-8c71-24bc00a94caa",
   "metadata": {},
   "outputs": [],
   "source": [
    "df = pd.DataFrame(data = output[\"topic-word-matrix\"], columns = dataset.get_vocabulary()).T.sort_values(by = 0, ascending = False)\n",
    "df.head()"
   ]
  },
  {
   "cell_type": "code",
   "execution_count": null,
   "id": "bd651448-bfd9-43f2-b524-840426fb6952",
   "metadata": {},
   "outputs": [],
   "source": [
    "df = pd.DataFrame(data = output[\"topic-word-matrix\"], columns = sorted(dataset.get_vocabulary())).T.sort_values(by = 0, ascending = False)\n",
    "df.head()"
   ]
  },
  {
   "cell_type": "code",
   "execution_count": null,
   "id": "c02ddf41-7d6d-4261-b6a3-2c26692178eb",
   "metadata": {},
   "outputs": [],
   "source": [
    "from octis.models.NMF import NMF\n",
    "\n",
    "model = NMF(num_topics = 15)\n",
    "\n",
    "output = model.train_model(dataset, top_words = 30)"
   ]
  },
  {
   "cell_type": "code",
   "execution_count": null,
   "id": "054f6bd7-1778-4b82-9a4e-336555053688",
   "metadata": {},
   "outputs": [],
   "source": [
    "output[\"topics\"][0][:5]"
   ]
  },
  {
   "cell_type": "code",
   "execution_count": null,
   "id": "c03927df-0971-4970-9d52-43d471b7039c",
   "metadata": {},
   "outputs": [],
   "source": [
    "df = pd.DataFrame(data = output[\"topic-word-matrix\"], columns = dataset.get_vocabulary()).T.sort_values(by = 0, ascending = False)\n",
    "df.head()"
   ]
  },
  {
   "cell_type": "code",
   "execution_count": null,
   "id": "c568f8b9-327a-43ca-a63d-a137b263ea6e",
   "metadata": {},
   "outputs": [],
   "source": [
    "df = pd.DataFrame(data = output[\"topic-word-matrix\"], columns = sorted(dataset.get_vocabulary())).T.sort_values(by = 0, ascending = False)\n",
    "df.head()"
   ]
  },
  {
   "cell_type": "markdown",
   "id": "ab412957-213b-448f-b8b5-044d692fb6ac",
   "metadata": {},
   "source": [
    "## Metrics"
   ]
  },
  {
   "cell_type": "code",
   "execution_count": null,
   "id": "3e242746-d6b3-4ca8-b30c-d68b384f3875",
   "metadata": {},
   "outputs": [],
   "source": [
    "alpha = list()\n",
    "\n",
    "eta = list()\n",
    "\n",
    "for i in K:\n",
    "    for a in alpha_list:\n",
    "        for e in eta_list:\n",
    "            for j in [10, 20, 30]:\n",
    "                alpha.append(a)\n",
    "                eta.append(e)"
   ]
  },
  {
   "cell_type": "code",
   "execution_count": null,
   "id": "d7d145c6-2d09-4c7e-8ab1-1ab3ec902786",
   "metadata": {},
   "outputs": [],
   "source": [
    "from octis.evaluation_metrics.coherence_metrics import Coherence\n",
    "\n",
    "k, m, u_mass, c_v, c_uci, c_npmi = list(), list(), list(), list(), list(), list()\n",
    "\n",
    "for i in tqdm(range(len(outputs))):\n",
    "    for j in [10, 20, 30]:\n",
    "        k.append(len(outputs[i][\"topics\"]))\n",
    "        m.append(j)\n",
    "        u_mass.append(Coherence(texts = dataset.get_corpus(), topk = j, measure = \"u_mass\").score(outputs[i]))\n",
    "        c_v.append(Coherence(texts = dataset.get_corpus(), topk = j, measure = \"c_v\").score(outputs[i]))\n",
    "        c_uci.append(Coherence(texts = dataset.get_corpus(), topk = j, measure = \"c_uci\").score(outputs[i]))\n",
    "        c_npmi.append(Coherence(texts = dataset.get_corpus(), topk = j, measure = \"c_npmi\").score(outputs[i]))\n",
    "        \n",
    "metrics = pd.DataFrame(data = {\"k\" : k,\n",
    "                               \"m\" : m,\n",
    "                               \"u_mass\" : u_mass,\n",
    "                               \"c_v\" : c_v,\n",
    "                               \"c_uci\" : c_uci,\n",
    "                               \"c_npmi\" : c_npmi,\n",
    "                               \"alpha\" : alpha,\n",
    "                               \"eta\" : eta})\n",
    "\n",
    "# metrics.to_csv(\"outputs/metrics/lda.csv\", index = False)"
   ]
  }
 ],
 "metadata": {
  "kernelspec": {
   "display_name": "Python 3 (ipykernel)",
   "language": "python",
   "name": "python3"
  },
  "language_info": {
   "codemirror_mode": {
    "name": "ipython",
    "version": 3
   },
   "file_extension": ".py",
   "mimetype": "text/x-python",
   "name": "python",
   "nbconvert_exporter": "python",
   "pygments_lexer": "ipython3",
   "version": "3.9.13"
  }
 },
 "nbformat": 4,
 "nbformat_minor": 5
}
