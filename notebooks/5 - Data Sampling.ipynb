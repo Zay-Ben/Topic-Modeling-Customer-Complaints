{
 "cells": [
  {
   "cell_type": "markdown",
   "id": "11a4aea2-3193-4654-8078-f2e6fe5f5a7a",
   "metadata": {},
   "source": [
    "# 5 - Data Sampling"
   ]
  },
  {
   "cell_type": "code",
   "execution_count": 1,
   "id": "e84fc8d5-a9eb-49d8-9afe-fea7d8dcdf8f",
   "metadata": {},
   "outputs": [],
   "source": [
    "import pandas as pd\n",
    "\n",
    "import rt # remove tweets\n",
    "\n",
    "df = pd.read_csv(\"inputs/tweets_3.csv\") # import data"
   ]
  },
  {
   "cell_type": "code",
   "execution_count": 2,
   "id": "78574a0c-9cdb-4286-94eb-2fa43abcdbc0",
   "metadata": {},
   "outputs": [
    {
     "name": "stdout",
     "output_type": "stream",
     "text": [
      "<class 'pandas.core.frame.DataFrame'>\n",
      "RangeIndex: 236956 entries, 0 to 236955\n",
      "Data columns (total 23 columns):\n",
      " #   Column           Non-Null Count   Dtype \n",
      "---  ------           --------------   ----- \n",
      " 0   date             236956 non-null  object\n",
      " 1   content          236956 non-null  object\n",
      " 2   tweet_id         236956 non-null  int64 \n",
      " 3   user_username    236956 non-null  object\n",
      " 4   conversation_id  236956 non-null  int64 \n",
      " 5   content_1        236956 non-null  object\n",
      " 6   company_a        236956 non-null  int64 \n",
      " 7   company_b        236956 non-null  int64 \n",
      " 8   company_c        236956 non-null  int64 \n",
      " 9   company          236956 non-null  int64 \n",
      " 10  content_2        236956 non-null  object\n",
      " 11  content_3        236956 non-null  object\n",
      " 12  content_4        236956 non-null  object\n",
      " 13  word_count_1     236956 non-null  int64 \n",
      " 14  content_5        236956 non-null  object\n",
      " 15  content_6        236956 non-null  object\n",
      " 16  content_7        236956 non-null  object\n",
      " 17  content_8        236956 non-null  object\n",
      " 18  content_9        236956 non-null  object\n",
      " 19  word_count_2     236956 non-null  int64 \n",
      " 20  content_10       236956 non-null  object\n",
      " 21  month            236956 non-null  int64 \n",
      " 22  company_x        236956 non-null  object\n",
      "dtypes: int64(9), object(14)\n",
      "memory usage: 41.6+ MB\n"
     ]
    }
   ],
   "source": [
    "df.info()"
   ]
  },
  {
   "cell_type": "code",
   "execution_count": 3,
   "id": "cc497c3d-360b-4e9a-b9b9-f0b3e943bb0a",
   "metadata": {},
   "outputs": [
    {
     "data": {
      "text/html": [
       "<div>\n",
       "<style scoped>\n",
       "    .dataframe tbody tr th:only-of-type {\n",
       "        vertical-align: middle;\n",
       "    }\n",
       "\n",
       "    .dataframe tbody tr th {\n",
       "        vertical-align: top;\n",
       "    }\n",
       "\n",
       "    .dataframe thead th {\n",
       "        text-align: right;\n",
       "    }\n",
       "</style>\n",
       "<table border=\"1\" class=\"dataframe\">\n",
       "  <thead>\n",
       "    <tr style=\"text-align: right;\">\n",
       "      <th></th>\n",
       "      <th>date</th>\n",
       "      <th>content</th>\n",
       "      <th>tweet_id</th>\n",
       "      <th>user_username</th>\n",
       "      <th>conversation_id</th>\n",
       "      <th>content_1</th>\n",
       "      <th>company_a</th>\n",
       "      <th>company_b</th>\n",
       "      <th>company_c</th>\n",
       "      <th>company</th>\n",
       "      <th>...</th>\n",
       "      <th>word_count_1</th>\n",
       "      <th>content_5</th>\n",
       "      <th>content_6</th>\n",
       "      <th>content_7</th>\n",
       "      <th>content_8</th>\n",
       "      <th>content_9</th>\n",
       "      <th>word_count_2</th>\n",
       "      <th>content_10</th>\n",
       "      <th>month</th>\n",
       "      <th>company_x</th>\n",
       "    </tr>\n",
       "  </thead>\n",
       "  <tbody>\n",
       "    <tr>\n",
       "      <th>0</th>\n",
       "      <td>2022-12-30</td>\n",
       "      <td>@converge_csu @kjmdrxs paki balik po internet ...</td>\n",
       "      <td>1608975838728572928</td>\n",
       "      <td>janris0530</td>\n",
       "      <td>1607652734915973120</td>\n",
       "      <td>@company_a @kjmdrxs paki balik po internet con...</td>\n",
       "      <td>1</td>\n",
       "      <td>0</td>\n",
       "      <td>0</td>\n",
       "      <td>1</td>\n",
       "      <td>...</td>\n",
       "      <td>15</td>\n",
       "      <td>please return internet connection nmin paid km...</td>\n",
       "      <td>please return internet connection nmin paid km...</td>\n",
       "      <td>please return internet connection nmin paid km...</td>\n",
       "      <td>please return internet connection nmin paid km...</td>\n",
       "      <td>please return internet connection nmin paid km...</td>\n",
       "      <td>12</td>\n",
       "      <td>please return internet connection nmin pay kmi...</td>\n",
       "      <td>12</td>\n",
       "      <td>a</td>\n",
       "    </tr>\n",
       "    <tr>\n",
       "      <th>1</th>\n",
       "      <td>2022-12-30</td>\n",
       "      <td>@converge_csu @alfr3yforyou process the cancel...</td>\n",
       "      <td>1608974288689979392</td>\n",
       "      <td>missrheart</td>\n",
       "      <td>1608880251001802753</td>\n",
       "      <td>@company_a @alfr3yforyou process the cancellat...</td>\n",
       "      <td>1</td>\n",
       "      <td>0</td>\n",
       "      <td>0</td>\n",
       "      <td>1</td>\n",
       "      <td>...</td>\n",
       "      <td>6</td>\n",
       "      <td>process cancellation do not have a reason to pay</td>\n",
       "      <td>process cancellation do not have a reason to pay</td>\n",
       "      <td>process cancellation reason pay</td>\n",
       "      <td>process cancellation reason pay</td>\n",
       "      <td>process cancellation reason pay</td>\n",
       "      <td>4</td>\n",
       "      <td>process cancellation reason pay</td>\n",
       "      <td>12</td>\n",
       "      <td>a</td>\n",
       "    </tr>\n",
       "    <tr>\n",
       "      <th>2</th>\n",
       "      <td>2022-12-30</td>\n",
       "      <td>@pldt_cares @aspanlilio @iammvp i want to requ...</td>\n",
       "      <td>1608973180361912321</td>\n",
       "      <td>ericlomerio</td>\n",
       "      <td>1593088282921168896</td>\n",
       "      <td>@company_c @aspanlilio @iammvp i want to reque...</td>\n",
       "      <td>0</td>\n",
       "      <td>0</td>\n",
       "      <td>1</td>\n",
       "      <td>1</td>\n",
       "      <td>...</td>\n",
       "      <td>21</td>\n",
       "      <td>want request investigation nap boxes lines pre...</td>\n",
       "      <td>want request investigation nap boxes lines pre...</td>\n",
       "      <td>want request investigation nap boxes lines pre...</td>\n",
       "      <td>want request investigation nap boxes lines pre...</td>\n",
       "      <td>want request investigation nap boxes lines pre...</td>\n",
       "      <td>16</td>\n",
       "      <td>want request investigation nap box line previo...</td>\n",
       "      <td>12</td>\n",
       "      <td>c</td>\n",
       "    </tr>\n",
       "    <tr>\n",
       "      <th>3</th>\n",
       "      <td>2022-12-30</td>\n",
       "      <td>@talk2globe  @enjoyglobe internet  connection ...</td>\n",
       "      <td>1608972472594104320</td>\n",
       "      <td>channelmaikeru</td>\n",
       "      <td>1608972472594104320</td>\n",
       "      <td>@company_b  @company_b internet  connection  p...</td>\n",
       "      <td>0</td>\n",
       "      <td>1</td>\n",
       "      <td>0</td>\n",
       "      <td>1</td>\n",
       "      <td>...</td>\n",
       "      <td>6</td>\n",
       "      <td>internet connection please pay time job</td>\n",
       "      <td>internet connection please pay time job</td>\n",
       "      <td>internet connection please pay time job</td>\n",
       "      <td>internet connection please pay time job</td>\n",
       "      <td>internet connection please pay time job</td>\n",
       "      <td>6</td>\n",
       "      <td>internet connection please pay time job</td>\n",
       "      <td>12</td>\n",
       "      <td>b</td>\n",
       "    </tr>\n",
       "    <tr>\n",
       "      <th>4</th>\n",
       "      <td>2022-12-30</td>\n",
       "      <td>@talk2globe still no internet connection  !!!!...</td>\n",
       "      <td>1608972053914484736</td>\n",
       "      <td>channelmaikeru</td>\n",
       "      <td>1608972053914484736</td>\n",
       "      <td>@company_b still no internet connection  !!!!!...</td>\n",
       "      <td>0</td>\n",
       "      <td>1</td>\n",
       "      <td>0</td>\n",
       "      <td>1</td>\n",
       "      <td>...</td>\n",
       "      <td>3</td>\n",
       "      <td>still internet connection</td>\n",
       "      <td>still internet connection</td>\n",
       "      <td>still internet connection</td>\n",
       "      <td>still internet connection</td>\n",
       "      <td>still internet connection</td>\n",
       "      <td>3</td>\n",
       "      <td>still internet connection</td>\n",
       "      <td>12</td>\n",
       "      <td>b</td>\n",
       "    </tr>\n",
       "  </tbody>\n",
       "</table>\n",
       "<p>5 rows × 23 columns</p>\n",
       "</div>"
      ],
      "text/plain": [
       "         date                                            content  \\\n",
       "0  2022-12-30  @converge_csu @kjmdrxs paki balik po internet ...   \n",
       "1  2022-12-30  @converge_csu @alfr3yforyou process the cancel...   \n",
       "2  2022-12-30  @pldt_cares @aspanlilio @iammvp i want to requ...   \n",
       "3  2022-12-30  @talk2globe  @enjoyglobe internet  connection ...   \n",
       "4  2022-12-30  @talk2globe still no internet connection  !!!!...   \n",
       "\n",
       "              tweet_id   user_username      conversation_id  \\\n",
       "0  1608975838728572928      janris0530  1607652734915973120   \n",
       "1  1608974288689979392      missrheart  1608880251001802753   \n",
       "2  1608973180361912321     ericlomerio  1593088282921168896   \n",
       "3  1608972472594104320  channelmaikeru  1608972472594104320   \n",
       "4  1608972053914484736  channelmaikeru  1608972053914484736   \n",
       "\n",
       "                                           content_1  company_a  company_b  \\\n",
       "0  @company_a @kjmdrxs paki balik po internet con...          1          0   \n",
       "1  @company_a @alfr3yforyou process the cancellat...          1          0   \n",
       "2  @company_c @aspanlilio @iammvp i want to reque...          0          0   \n",
       "3  @company_b  @company_b internet  connection  p...          0          1   \n",
       "4  @company_b still no internet connection  !!!!!...          0          1   \n",
       "\n",
       "   company_c  company  ... word_count_1  \\\n",
       "0          0        1  ...           15   \n",
       "1          0        1  ...            6   \n",
       "2          1        1  ...           21   \n",
       "3          0        1  ...            6   \n",
       "4          0        1  ...            3   \n",
       "\n",
       "                                           content_5  \\\n",
       "0  please return internet connection nmin paid km...   \n",
       "1   process cancellation do not have a reason to pay   \n",
       "2  want request investigation nap boxes lines pre...   \n",
       "3            internet connection please pay time job   \n",
       "4                          still internet connection   \n",
       "\n",
       "                                           content_6  \\\n",
       "0  please return internet connection nmin paid km...   \n",
       "1   process cancellation do not have a reason to pay   \n",
       "2  want request investigation nap boxes lines pre...   \n",
       "3            internet connection please pay time job   \n",
       "4                          still internet connection   \n",
       "\n",
       "                                           content_7  \\\n",
       "0  please return internet connection nmin paid km...   \n",
       "1                    process cancellation reason pay   \n",
       "2  want request investigation nap boxes lines pre...   \n",
       "3            internet connection please pay time job   \n",
       "4                          still internet connection   \n",
       "\n",
       "                                           content_8  \\\n",
       "0  please return internet connection nmin paid km...   \n",
       "1                    process cancellation reason pay   \n",
       "2  want request investigation nap boxes lines pre...   \n",
       "3            internet connection please pay time job   \n",
       "4                          still internet connection   \n",
       "\n",
       "                                           content_9 word_count_2  \\\n",
       "0  please return internet connection nmin paid km...           12   \n",
       "1                    process cancellation reason pay            4   \n",
       "2  want request investigation nap boxes lines pre...           16   \n",
       "3            internet connection please pay time job            6   \n",
       "4                          still internet connection            3   \n",
       "\n",
       "                                          content_10 month  company_x  \n",
       "0  please return internet connection nmin pay kmi...    12          a  \n",
       "1                    process cancellation reason pay    12          a  \n",
       "2  want request investigation nap box line previo...    12          c  \n",
       "3            internet connection please pay time job    12          b  \n",
       "4                          still internet connection    12          b  \n",
       "\n",
       "[5 rows x 23 columns]"
      ]
     },
     "execution_count": 3,
     "metadata": {},
     "output_type": "execute_result"
    }
   ],
   "source": [
    "df.head()"
   ]
  },
  {
   "cell_type": "markdown",
   "id": "2dd23b4c-28e0-4203-85c0-2869063bcfb3",
   "metadata": {},
   "source": [
    "## Statistics"
   ]
  },
  {
   "cell_type": "markdown",
   "id": "c9cab654-976f-44c7-a9e3-846382198104",
   "metadata": {},
   "source": [
    "### Tweets by company"
   ]
  },
  {
   "cell_type": "code",
   "execution_count": 4,
   "id": "459bdb4c-34a5-4a20-a440-e843cd3aef11",
   "metadata": {},
   "outputs": [
    {
     "data": {
      "text/plain": [
       "company_x\n",
       "a     65627\n",
       "b     59006\n",
       "c    112323\n",
       "Name: content, dtype: int64"
      ]
     },
     "execution_count": 4,
     "metadata": {},
     "output_type": "execute_result"
    }
   ],
   "source": [
    "df.pivot_table(index = \"company_x\", aggfunc = \"count\")[\"content\"]"
   ]
  },
  {
   "cell_type": "code",
   "execution_count": 5,
   "id": "5d5fcc63-53d8-4512-ba3c-0675595ece56",
   "metadata": {},
   "outputs": [
    {
     "data": {
      "text/plain": [
       "company_x\n",
       "a    27.7\n",
       "b    24.9\n",
       "c    47.4\n",
       "Name: content, dtype: float64"
      ]
     },
     "execution_count": 5,
     "metadata": {},
     "output_type": "execute_result"
    }
   ],
   "source": [
    "round(df.pivot_table(index = \"company_x\", aggfunc = \"count\")[\"content\"] / len(df) * 100, 2)"
   ]
  },
  {
   "cell_type": "markdown",
   "id": "cc68cd9c-d40e-420f-a875-efbbd7102920",
   "metadata": {},
   "source": [
    "### Tweets by month"
   ]
  },
  {
   "cell_type": "code",
   "execution_count": 6,
   "id": "4a842ec9-be39-422b-aa5a-53887f8dac08",
   "metadata": {},
   "outputs": [
    {
     "data": {
      "text/plain": [
       "month\n",
       "1     22353\n",
       "2     21125\n",
       "3     21500\n",
       "4     16894\n",
       "5     21351\n",
       "6     28079\n",
       "7     22367\n",
       "8     20391\n",
       "9     18556\n",
       "10    16309\n",
       "11    14307\n",
       "12    13724\n",
       "Name: content, dtype: int64"
      ]
     },
     "execution_count": 6,
     "metadata": {},
     "output_type": "execute_result"
    }
   ],
   "source": [
    "df.pivot_table(index = \"month\", aggfunc = \"count\")[\"content\"]"
   ]
  },
  {
   "cell_type": "code",
   "execution_count": 7,
   "id": "ceeaa6a1-88bd-4b86-97b6-007846bc609e",
   "metadata": {},
   "outputs": [
    {
     "data": {
      "text/plain": [
       "month\n",
       "1      9.43\n",
       "2      8.92\n",
       "3      9.07\n",
       "4      7.13\n",
       "5      9.01\n",
       "6     11.85\n",
       "7      9.44\n",
       "8      8.61\n",
       "9      7.83\n",
       "10     6.88\n",
       "11     6.04\n",
       "12     5.79\n",
       "Name: content, dtype: float64"
      ]
     },
     "execution_count": 7,
     "metadata": {},
     "output_type": "execute_result"
    }
   ],
   "source": [
    "round(df.pivot_table(index = \"month\", aggfunc = \"count\")[\"content\"] / len(df) * 100, 2)"
   ]
  },
  {
   "cell_type": "markdown",
   "id": "b8345bdb-d21b-49f5-a87f-f50e7a537d08",
   "metadata": {},
   "source": [
    "### Tweets by company and month"
   ]
  },
  {
   "cell_type": "code",
   "execution_count": 8,
   "id": "bbaca2fe-650c-4563-b722-7236b2e5b552",
   "metadata": {},
   "outputs": [
    {
     "data": {
      "text/plain": [
       "company_x  month\n",
       "a          1         5696\n",
       "           2         5766\n",
       "           3         5526\n",
       "           4         4630\n",
       "           5         4636\n",
       "           6        10350\n",
       "           7         6149\n",
       "           8         5172\n",
       "           9         6455\n",
       "           10        5360\n",
       "           11        3565\n",
       "           12        2322\n",
       "b          1         6522\n",
       "           2         6378\n",
       "           3         5023\n",
       "           4         4081\n",
       "           5         3586\n",
       "           6         4627\n",
       "           7         5166\n",
       "           8         4107\n",
       "           9         4154\n",
       "           10        4229\n",
       "           11        5035\n",
       "           12        6098\n",
       "c          1        10135\n",
       "           2         8981\n",
       "           3        10951\n",
       "           4         8183\n",
       "           5        13129\n",
       "           6        13102\n",
       "           7        11052\n",
       "           8        11112\n",
       "           9         7947\n",
       "           10        6720\n",
       "           11        5707\n",
       "           12        5304\n",
       "Name: content, dtype: int64"
      ]
     },
     "execution_count": 8,
     "metadata": {},
     "output_type": "execute_result"
    }
   ],
   "source": [
    "df.pivot_table(index = [\"company_x\", \"month\"], aggfunc = \"count\")[\"content\"]"
   ]
  },
  {
   "cell_type": "markdown",
   "id": "6a3b6424-07ae-4d89-8abd-713d2ae9d64c",
   "metadata": {},
   "source": [
    "## Stratified Random Sampling"
   ]
  },
  {
   "cell_type": "code",
   "execution_count": 9,
   "id": "f0ba9313-fcd4-4f6f-a650-b2f19bf304b1",
   "metadata": {
    "tags": []
   },
   "outputs": [],
   "source": [
    "n = min(df.pivot_table(index = [\"company_x\", \"month\"], aggfunc = \"count\")[\"content\"])"
   ]
  },
  {
   "cell_type": "code",
   "execution_count": 10,
   "id": "43300fcd-2901-429b-b1e5-f2bd7109cf6d",
   "metadata": {},
   "outputs": [],
   "source": [
    "df_sample = df.groupby([\"company_x\", \"month\"]).sample(n = n, random_state = 0)"
   ]
  },
  {
   "cell_type": "markdown",
   "id": "994f15a6-81f5-4bc7-9f8c-8d9184702898",
   "metadata": {},
   "source": [
    "### Tweets by company and month"
   ]
  },
  {
   "cell_type": "code",
   "execution_count": 11,
   "id": "8db463da-3f51-4a91-a176-7ac2c62b108e",
   "metadata": {},
   "outputs": [
    {
     "data": {
      "text/plain": [
       "company_x  month\n",
       "a          1        2322\n",
       "           2        2322\n",
       "           3        2322\n",
       "           4        2322\n",
       "           5        2322\n",
       "           6        2322\n",
       "           7        2322\n",
       "           8        2322\n",
       "           9        2322\n",
       "           10       2322\n",
       "           11       2322\n",
       "           12       2322\n",
       "b          1        2322\n",
       "           2        2322\n",
       "           3        2322\n",
       "           4        2322\n",
       "           5        2322\n",
       "           6        2322\n",
       "           7        2322\n",
       "           8        2322\n",
       "           9        2322\n",
       "           10       2322\n",
       "           11       2322\n",
       "           12       2322\n",
       "c          1        2322\n",
       "           2        2322\n",
       "           3        2322\n",
       "           4        2322\n",
       "           5        2322\n",
       "           6        2322\n",
       "           7        2322\n",
       "           8        2322\n",
       "           9        2322\n",
       "           10       2322\n",
       "           11       2322\n",
       "           12       2322\n",
       "Name: content, dtype: int64"
      ]
     },
     "execution_count": 11,
     "metadata": {},
     "output_type": "execute_result"
    }
   ],
   "source": [
    "df_sample.pivot_table(index = [\"company_x\", \"month\"], aggfunc = \"count\")[\"content\"]"
   ]
  },
  {
   "cell_type": "code",
   "execution_count": 12,
   "id": "60650059-7641-44a1-89ed-d22ce46f89d8",
   "metadata": {},
   "outputs": [
    {
     "name": "stdout",
     "output_type": "stream",
     "text": [
      "262075 or 75.82% of the tweets were removed.\n"
     ]
    }
   ],
   "source": [
    "rt.rt(345667, 83592)"
   ]
  },
  {
   "cell_type": "markdown",
   "id": "227d2a7a-e94c-41ac-b7d3-f794e8a6ef4d",
   "metadata": {},
   "source": [
    "## Export Data"
   ]
  },
  {
   "cell_type": "code",
   "execution_count": null,
   "id": "fdd39b99-8b55-401b-b64a-29be520dcf84",
   "metadata": {},
   "outputs": [],
   "source": [
    "# df_sample.to_csv(\"inputs/tweets_sample.csv\", index = False)"
   ]
  },
  {
   "cell_type": "code",
   "execution_count": null,
   "id": "6fa91305-35dc-49fe-b66d-1eaf047d315b",
   "metadata": {},
   "outputs": [],
   "source": [
    "df_sample.info()"
   ]
  },
  {
   "cell_type": "code",
   "execution_count": null,
   "id": "f394ac2f-7627-4242-886a-bd30e02200b3",
   "metadata": {},
   "outputs": [],
   "source": [
    "df_sample.head()"
   ]
  },
  {
   "cell_type": "markdown",
   "id": "6743e89e-0658-4202-a18b-fa086aa743ee",
   "metadata": {},
   "source": [
    "## dataset"
   ]
  },
  {
   "cell_type": "code",
   "execution_count": null,
   "id": "af88cb50-be1f-4920-9414-a40403c0c523",
   "metadata": {},
   "outputs": [],
   "source": [
    "corpus = df_sample\n",
    "\n",
    "corpus[\"partition\"] = \"train\"\n",
    "\n",
    "corpus = corpus[[\"content_10\", \"partition\"]]\n",
    "\n",
    "# corpus.to_csv(\"dataset/corpus.tsv\", sep = \"\\t\", header = False, index = False)\n",
    "\n",
    "words = sorted(set(\" \".join(corpus.content_10).split()))\n",
    "\n",
    "with open(\"dataset/words.txt\", mode = \"w\") as f:\n",
    "    for word in words:\n",
    "        # f.write(word + \"\\n\")"
   ]
  }
 ],
 "metadata": {
  "kernelspec": {
   "display_name": "Python 3 (ipykernel)",
   "language": "python",
   "name": "python3"
  },
  "language_info": {
   "codemirror_mode": {
    "name": "ipython",
    "version": 3
   },
   "file_extension": ".py",
   "mimetype": "text/x-python",
   "name": "python",
   "nbconvert_exporter": "python",
   "pygments_lexer": "ipython3",
   "version": "3.9.13"
  }
 },
 "nbformat": 4,
 "nbformat_minor": 5
}
