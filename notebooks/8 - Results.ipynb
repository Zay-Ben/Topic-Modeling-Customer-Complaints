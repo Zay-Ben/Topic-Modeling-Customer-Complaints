{
 "cells": [
  {
   "cell_type": "markdown",
   "id": "ada4bf11-93e2-4e7e-9764-7c976344c2e6",
   "metadata": {},
   "source": [
    "# 8 - Results"
   ]
  },
  {
   "cell_type": "markdown",
   "id": "a7f1787f-e90c-4e61-b149-c451f20888dd",
   "metadata": {},
   "source": [
    "## Import Library"
   ]
  },
  {
   "cell_type": "code",
   "execution_count": 1,
   "id": "59c0bc2e-c98b-4ab1-85b9-65b6363f37fd",
   "metadata": {},
   "outputs": [],
   "source": [
    "import joblib\n",
    "\n",
    "import pandas as pd\n",
    "\n",
    "optimal = \"k_15_a_250_e_0.001\""
   ]
  },
  {
   "cell_type": "markdown",
   "id": "4146e849-a4e3-4d04-91d7-38b547f8f683",
   "metadata": {
    "tags": []
   },
   "source": [
    "## Import Model"
   ]
  },
  {
   "cell_type": "code",
   "execution_count": 2,
   "id": "3ab6484b-268b-443a-8062-fb6959c79d5a",
   "metadata": {},
   "outputs": [],
   "source": [
    "model = joblib.load(\"outputs/models/btm/btm_{}.sav\".format(optimal))"
   ]
  },
  {
   "cell_type": "markdown",
   "id": "7cb71d04-d5fe-4c3c-8a2e-9a3acf7cfe35",
   "metadata": {},
   "source": [
    "## Topic Proportion of Corpus"
   ]
  },
  {
   "cell_type": "code",
   "execution_count": 3,
   "id": "b0d5d125-acfb-49e3-9d41-7a1a0b3bf957",
   "metadata": {},
   "outputs": [],
   "source": [
    "tpoc = pd.DataFrame(data = {\"k\" : [i + 1 for i in range(len(model.theta_))], \"topic_proportion\" : model.theta_})\n",
    "\n",
    "# tpoc.to_csv(\"outputs/tpoc.csv\", index = False)"
   ]
  },
  {
   "cell_type": "markdown",
   "id": "8aa4183e-5a62-4cc8-8e41-d795989b31c6",
   "metadata": {
    "tags": []
   },
   "source": [
    "## Topic Proportion of Document"
   ]
  },
  {
   "cell_type": "markdown",
   "id": "d32267b0-1a74-47c3-bf5b-394f3f2a0156",
   "metadata": {},
   "source": [
    "### Population"
   ]
  },
  {
   "cell_type": "code",
   "execution_count": 4,
   "id": "20766958-2cab-4c5c-8efc-2d9a88971a8f",
   "metadata": {},
   "outputs": [],
   "source": [
    "import bitermplus as btm\n",
    "\n",
    "df = pd.read_csv(\"inputs/tweets_3.csv\")\n",
    "\n",
    "texts = df[\"content_10\"].str.strip().tolist()\n",
    "\n",
    "X, vocabulary, vocab_dict = btm.get_words_freqs(texts)\n",
    "\n",
    "docs_vec = btm.get_vectorized_docs(texts, vocabulary)\n",
    "\n",
    "biterms = btm.get_biterms(docs_vec)"
   ]
  },
  {
   "cell_type": "code",
   "execution_count": 5,
   "id": "bef47163-51d8-4459-bef7-ec41687e09a4",
   "metadata": {},
   "outputs": [
    {
     "name": "stderr",
     "output_type": "stream",
     "text": [
      "100%|██████████| 236956/236956 [00:02<00:00, 82256.68it/s] \n"
     ]
    }
   ],
   "source": [
    "p_zd = pd.DataFrame(data = model.transform(docs_vec)).T\n",
    "\n",
    "# p_zd.to_csv(\"outputs/tpod/p_zd_{}_population.csv\".format(optimal))"
   ]
  },
  {
   "cell_type": "code",
   "execution_count": 6,
   "id": "c81817e9-e5eb-4d00-8276-db3e43bba39c",
   "metadata": {
    "tags": []
   },
   "outputs": [],
   "source": [
    "df = pd.read_csv(\"inputs/tweets_3.csv\")\n",
    "\n",
    "p_zd = pd.read_csv(\"outputs/tpod/p_zd_{}_population.csv\".format(optimal), index_col = 0)\n",
    "\n",
    "p_zd = p_zd.T\n",
    "\n",
    "p_zd.reset_index(drop = True, inplace = True)\n",
    "\n",
    "p_zd.columns = [\"topic_\" + str(i + 1) for i in range(len(p_zd.columns))]\n",
    "\n",
    "p_zd[\"topic_k\"] = p_zd.idxmax(axis = 1)\n",
    "\n",
    "tpod = df.merge(p_zd, left_index = True, right_index = True)\n",
    "\n",
    "# tpod.to_csv(\"outputs/tpod/tpod_population.csv\", index = False)\n",
    "\n",
    "# tpod.to_excel(\"outputs/tpod/tpod_population.xlsx\", index = False)"
   ]
  },
  {
   "cell_type": "markdown",
   "id": "fbe764a0-29b5-4900-af13-b43caddd561c",
   "metadata": {},
   "source": [
    "### Sample"
   ]
  },
  {
   "cell_type": "code",
   "execution_count": 7,
   "id": "0e159125-0537-4b34-9f69-0ba03bd0b492",
   "metadata": {},
   "outputs": [],
   "source": [
    "p_zd = pd.read_csv(\"outputs/btm/p_zd_{}.csv\".format(optimal), index_col = 0)\n",
    "\n",
    "# p_zd.to_csv(\"outputs/tpod/p_zd_{}_sample.csv\".format(optimal)) #"
   ]
  },
  {
   "cell_type": "code",
   "execution_count": 8,
   "id": "65b6b18b-6c44-41ca-8bdd-af267c54de51",
   "metadata": {},
   "outputs": [],
   "source": [
    "df = pd.read_csv(\"inputs/tweets_sample.csv\") #\n",
    "\n",
    "p_zd = pd.read_csv(\"outputs/tpod/p_zd_{}_sample.csv\".format(optimal), index_col = 0)\n",
    "\n",
    "p_zd = p_zd.T\n",
    "\n",
    "p_zd.reset_index(drop = True, inplace = True)\n",
    "\n",
    "p_zd.columns = [\"topic_\" + str(i + 1) for i in range(len(p_zd.columns))]\n",
    "\n",
    "p_zd[\"topic_k\"] = p_zd.idxmax(axis = 1)\n",
    "\n",
    "tpod = df.merge(p_zd, left_index = True, right_index = True)\n",
    "\n",
    "# tpod.to_csv(\"outputs/tpod/tpod_sample.csv\", index = False)\n",
    "\n",
    "# tpod.to_excel(\"outputs/tpod/tpod_sample.xlsx\", index = False)"
   ]
  },
  {
   "cell_type": "markdown",
   "id": "7039a7bf-e954-4277-bbef-e4d68b3e78a5",
   "metadata": {},
   "source": [
    "## Topic Proportion of Document (Sample)"
   ]
  },
  {
   "cell_type": "code",
   "execution_count": 9,
   "id": "70c9b5b6-f803-430e-b68d-9b550d81c3be",
   "metadata": {},
   "outputs": [],
   "source": [
    "tpod_sample = tpod.groupby(\"topic_k\").sample(n = 100, random_state = 100)\n",
    "\n",
    "# tpod_sample.to_csv(\"outputs/tpod/tpod_sample_sample.csv\", index = False)\n",
    "\n",
    "# tpod_sample.to_excel(\"outputs/tpod/tpod_sample_sample.xlsx\", index = False)"
   ]
  },
  {
   "cell_type": "markdown",
   "id": "3ca0f048-b842-4152-ae14-a46535db227a",
   "metadata": {},
   "source": [
    "## Top Words"
   ]
  },
  {
   "cell_type": "code",
   "execution_count": 10,
   "id": "bc9980d3-e09f-4da3-bd13-420d57f3969c",
   "metadata": {},
   "outputs": [],
   "source": [
    "p_wz = pd.read_csv(\"outputs/btm/p_wz_{}.csv\".format(optimal), index_col = 0).T\n",
    "\n",
    "dictionary = dict()\n",
    "\n",
    "for i in p_wz.columns:\n",
    "    dictionary[\"Topic \" + str(i + 1)] = list(p_wz.sort_values(by = i, ascending = False).head(30).index)\n",
    "    \n",
    "top_words = pd.DataFrame.from_dict(dictionary)\n",
    "\n",
    "# top_words.to_csv(\"outputs/top_words.csv\", index = False)"
   ]
  }
 ],
 "metadata": {
  "kernelspec": {
   "display_name": "Python 3 (ipykernel)",
   "language": "python",
   "name": "python3"
  },
  "language_info": {
   "codemirror_mode": {
    "name": "ipython",
    "version": 3
   },
   "file_extension": ".py",
   "mimetype": "text/x-python",
   "name": "python",
   "nbconvert_exporter": "python",
   "pygments_lexer": "ipython3",
   "version": "3.9.13"
  }
 },
 "nbformat": 4,
 "nbformat_minor": 5
}
