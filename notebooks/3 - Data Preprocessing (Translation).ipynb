{
 "cells": [
  {
   "cell_type": "markdown",
   "id": "8c6547f7-0896-497f-ba70-4d1091f4a690",
   "metadata": {
    "id": "8c6547f7-0896-497f-ba70-4d1091f4a690"
   },
   "source": [
    "# 3 - Data Preprocessing (Translation)"
   ]
  },
  {
   "cell_type": "code",
   "execution_count": null,
   "id": "a1aea362-9eb7-4e5a-930c-f7a1e454180d",
   "metadata": {},
   "outputs": [],
   "source": [
    "import pandas as pd\n",
    "\n",
    "!pip install googletrans==4.0.0rc1\n",
    "\n",
    "from googletrans import Translator\n",
    "\n",
    "import math\n",
    "\n",
    "from tqdm import tqdm\n",
    "\n",
    "import time"
   ]
  },
  {
   "cell_type": "markdown",
   "id": "a737ff8b-bf9e-4303-95aa-43d90faad2eb",
   "metadata": {},
   "source": [
    "## Google colab"
   ]
  },
  {
   "cell_type": "code",
   "execution_count": null,
   "id": "c3cbd07d-79c2-4861-b05d-ed5f067b27f4",
   "metadata": {
    "colab": {
     "base_uri": "https://localhost:8080/"
    },
    "id": "c3cbd07d-79c2-4861-b05d-ed5f067b27f4",
    "outputId": "1fb18d25-961a-43ae-b667-4f0742539983"
   },
   "outputs": [],
   "source": [
    "# from google.colab import drive\n",
    "\n",
    "# drive.mount(\"/content/drive/\")\n",
    "\n",
    "# %cd /content/drive/My Drive/Colab Notebooks/"
   ]
  },
  {
   "cell_type": "markdown",
   "id": "56f6e2bc-c62c-4d86-a9dc-d0cf5bfd2b2c",
   "metadata": {},
   "source": [
    "## Step 1. Import data"
   ]
  },
  {
   "cell_type": "code",
   "execution_count": null,
   "id": "7e6a0826-8188-4a5f-b9a0-d92663426643",
   "metadata": {},
   "outputs": [],
   "source": [
    "df = pd.read_csv(\"inputs/tweets_1.csv\")\n",
    "\n",
    "df[\"tweet_id\"] = df[\"tweet_id\"].astype(str)"
   ]
  },
  {
   "cell_type": "markdown",
   "id": "63b66f6c-f3b5-4340-a763-aeb3f8250dea",
   "metadata": {},
   "source": [
    "## Step 2."
   ]
  },
  {
   "cell_type": "code",
   "execution_count": null,
   "id": "bb3a98c5-031e-4566-84cf-901118f16ea0",
   "metadata": {
    "colab": {
     "base_uri": "https://localhost:8080/"
    },
    "id": "bb3a98c5-031e-4566-84cf-901118f16ea0",
    "outputId": "41783cc8-1f80-449e-e786-d6b964236e41"
   },
   "outputs": [],
   "source": [
    "translator = Translator()\n",
    "\n",
    "translator.raise_Exception = True\n",
    "\n",
    "def translation(x):\n",
    "    return translator.translate(x, src = \"tl\", dest = \"en\").text"
   ]
  },
  {
   "cell_type": "markdown",
   "id": "76c2c29d-5f73-4a99-9987-b90f5375221e",
   "metadata": {},
   "source": [
    "## Step 3."
   ]
  },
  {
   "cell_type": "code",
   "execution_count": null,
   "id": "b825a2ad-f3b8-442b-9fb3-f723234544a7",
   "metadata": {},
   "outputs": [],
   "source": [
    "tweet_id = []\n",
    "\n",
    "index = []\n",
    "\n",
    "before = []\n",
    "\n",
    "after = []\n",
    "\n",
    "N = len(df)\n",
    "\n",
    "# REPLACEABLE\n",
    "\n",
    "start = 0\n",
    "\n",
    "rate = 50\n",
    "\n",
    "n = math.floor((N - start) / rate) + 1\n",
    "\n",
    "key = \" \\n\\n\\n \""
   ]
  },
  {
   "cell_type": "markdown",
   "id": "fa0de324-9a00-4fa5-bb90-df5937d5d1f8",
   "metadata": {
    "tags": []
   },
   "source": [
    "## Step 4. Translation"
   ]
  },
  {
   "cell_type": "code",
   "execution_count": null,
   "id": "f03d4f04-2c3e-45ba-a8f4-80dcf903501c",
   "metadata": {},
   "outputs": [],
   "source": [
    "for j in tqdm(range(n)):\n",
    "    \n",
    "    try:\n",
    "        end = start + rate\n",
    "        after.append(translation(key.join(df[\"content_4\"][start:end])))\n",
    "        \n",
    "    except TypeError:\n",
    "        end = start + rate - 25\n",
    "        after.append(translation(key.join(df[\"content_4\"][start:end])))\n",
    "        \n",
    "    except IndexError:\n",
    "        end = N\n",
    "        after.append(translation(key.join(df[\"content_4\"][start:end])))\n",
    "        \n",
    "    tweet_id.append(key.join(df[\"tweet_id\"][start:end]))\n",
    "    \n",
    "    index.append(\"{0}:{1}\".format(start, end))\n",
    "    \n",
    "    before.append(key.join(df[\"content_4\"][start:end]))\n",
    "    \n",
    "    start = end\n",
    "    \n",
    "    if j % 50 == 0:\n",
    "        time.sleep(1)"
   ]
  },
  {
   "cell_type": "markdown",
   "id": "4b7cbe83-d33d-4844-a7e9-293abb52172a",
   "metadata": {},
   "source": [
    "## Step 5."
   ]
  },
  {
   "cell_type": "code",
   "execution_count": null,
   "id": "fg0gE8rWuB0r",
   "metadata": {
    "colab": {
     "base_uri": "https://localhost:8080/",
     "height": 380
    },
    "id": "fg0gE8rWuB0r",
    "outputId": "ac30964d-8702-410b-8da9-6ed202f2b334"
   },
   "outputs": [],
   "source": [
    "df_translated = pd.DataFrame(data = {\"tweet_id\" : tweet_id, \"index\" : index, \"before\" : before, \"after\" : after})\n",
    "\n",
    "df_translated[\"before_count\"] = df_translated[\"before\"].apply(lambda x: len(x.split(key.strip(\" \"))))\n",
    "\n",
    "df_translated[\"after_count\"] = df_translated[\"after\"].apply(lambda x: len(x.split(key.strip(\" \"))))\n",
    "\n",
    "df_translated[\"missed\"] = df_translated[\"before_count\"] - df_translated[\"after_count\"]\n",
    "\n",
    "# df_translated.to_csv(\"inputs/tweets_translated_n/tweets_translated_x.csv\", index = False)"
   ]
  },
  {
   "cell_type": "markdown",
   "id": "28d3a501-0303-4bce-82f8-7d39815140b7",
   "metadata": {},
   "source": [
    "## Step 7. Concatenate multiple `tweets_translated` csv files into a single `tweets_translated` csv file"
   ]
  },
  {
   "cell_type": "code",
   "execution_count": null,
   "id": "3e46c37c-1a3f-43f0-b5e1-1148f18c2020",
   "metadata": {},
   "outputs": [],
   "source": [
    "n = 5\n",
    "\n",
    "df_translated = pd.concat([pd.read_csv(\"inputs/tweets_translated_n/tweets_translated_{}.csv\".format(i + 1)) for i in range(n)], ignore_index = True)\n",
    "\n",
    "print(sum(df_translated.after_count))\n",
    "\n",
    "print(sum(df_translated.before_count))\n",
    "\n",
    "print(sum(df_translated.missed))\n",
    "\n",
    "# df_translated.to_csv(\"inputs/tweets_translated_n/tweets_translated_n.csv\", index = False)"
   ]
  },
  {
   "cell_type": "markdown",
   "id": "88bad4f3-f13e-470d-ad25-752b1afdb6ad",
   "metadata": {},
   "source": [
    "## Step 8."
   ]
  },
  {
   "cell_type": "code",
   "execution_count": null,
   "id": "428499c6-2d93-4fcd-985d-f5a9e21f6e3c",
   "metadata": {},
   "outputs": [],
   "source": [
    "# df_before\n",
    "\n",
    "df_before = pd.read_csv(\"inputs/tweets_1.csv\")\n",
    "\n",
    "df_before[\"tweet_id\"] = df_before[\"tweet_id\"].astype(str)\n",
    "\n",
    "# df_translated\n",
    "\n",
    "df_translated = pd.read_csv(\"inputs/tweets_translated_n/tweets_translated_n.csv\")\n",
    "\n",
    "# df_temporary\n",
    "\n",
    "df_temporary = pd.DataFrame()\n",
    "\n",
    "df_temporary[\"tweet_id\"] = [j.strip().lower() for i in df_translated[\"tweet_id\"] for j in i.split(\"\\n\\n\\n\")]\n",
    "\n",
    "df_temporary[\"content_5\"] = [j.strip().lower() for i in df_translated[\"after\"] for j in i.split(\"\\n\\n\\n\")]\n",
    "\n",
    "# df_after\n",
    "\n",
    "df_after = df_before.merge(df_temporary, how = \"inner\", on = \"tweet_id\")\n",
    "\n",
    "# df_after.to_csv(\"inputs/tweets_2.csv\", index = False)"
   ]
  }
 ],
 "metadata": {
  "colab": {
   "provenance": []
  },
  "kernelspec": {
   "display_name": "Python 3 (ipykernel)",
   "language": "python",
   "name": "python3"
  },
  "language_info": {
   "codemirror_mode": {
    "name": "ipython",
    "version": 3
   },
   "file_extension": ".py",
   "mimetype": "text/x-python",
   "name": "python",
   "nbconvert_exporter": "python",
   "pygments_lexer": "ipython3",
   "version": "3.9.13"
  }
 },
 "nbformat": 4,
 "nbformat_minor": 5
}
